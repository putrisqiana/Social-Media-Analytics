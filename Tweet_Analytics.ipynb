{
  "nbformat": 4,
  "nbformat_minor": 0,
  "metadata": {
    "colab": {
      "name": "Tweet Analytics.ipynb",
      "provenance": [],
      "collapsed_sections": [],
      "toc_visible": true,
      "machine_shape": "hm"
    },
    "kernelspec": {
      "name": "python3",
      "display_name": "Python 3"
    }
  },
  "cells": [
    {
      "cell_type": "markdown",
      "metadata": {
        "id": "S5LexE6eo3UL",
        "colab_type": "text"
      },
      "source": [
        "#Tweet Analytics"
      ]
    },
    {
      "cell_type": "code",
      "metadata": {
        "id": "RtA_KzHJcePJ",
        "colab_type": "code",
        "outputId": "041d9864-92a1-4f12-b250-a46c63756b28",
        "colab": {
          "base_uri": "https://localhost:8080/",
          "height": 119
        }
      },
      "source": [
        "import pandas as pd \n",
        "import numpy as np\n",
        "\n",
        "#Authentication module. for documentation  (http://docs.tweepy.org)\n",
        "import tweepy as tp\n",
        "\n",
        "#import nltk module \n",
        "import nltk\n",
        "nltk.download('punkt')\n",
        "nltk.download('stopwords')\n",
        "nltk.download('wordnet')\n",
        "from nltk.corpus import stopwords\n",
        "from nltk.stem import PorterStemmer\n",
        "\n",
        "\n",
        "#import reguler expression \n",
        "import re\n",
        "\n",
        "#import textblob \n",
        "from textblob import TextBlob\n",
        "\n",
        "#visualization \n",
        "import matplotlib.pyplot as plt\n",
        "import seaborn as sns \n",
        "%matplotlib inline \n",
        "\n",
        "from wordcloud import WordCloud, STOPWORDS"
      ],
      "execution_count": 1,
      "outputs": [
        {
          "output_type": "stream",
          "text": [
            "[nltk_data] Downloading package punkt to /root/nltk_data...\n",
            "[nltk_data]   Package punkt is already up-to-date!\n",
            "[nltk_data] Downloading package stopwords to /root/nltk_data...\n",
            "[nltk_data]   Package stopwords is already up-to-date!\n",
            "[nltk_data] Downloading package wordnet to /root/nltk_data...\n",
            "[nltk_data]   Package wordnet is already up-to-date!\n"
          ],
          "name": "stdout"
        }
      ]
    },
    {
      "cell_type": "markdown",
      "metadata": {
        "id": "Kfw8nzOPo9Wj",
        "colab_type": "text"
      },
      "source": [
        "## Data Preparation"
      ]
    },
    {
      "cell_type": "markdown",
      "metadata": {
        "id": "4Pxt9wqFpHZI",
        "colab_type": "text"
      },
      "source": [
        "### Load Data"
      ]
    },
    {
      "cell_type": "code",
      "metadata": {
        "id": "PAYWv0zehP7z",
        "colab_type": "code",
        "outputId": "64c010b0-5c9d-4125-ae93-60de4465c556",
        "colab": {
          "base_uri": "https://localhost:8080/",
          "height": 204
        }
      },
      "source": [
        "dataframe = pd.read_csv('clean_tweet (2).csv')\n",
        "dataframe.head()"
      ],
      "execution_count": 2,
      "outputs": [
        {
          "output_type": "execute_result",
          "data": {
            "text/html": [
              "<div>\n",
              "<style scoped>\n",
              "    .dataframe tbody tr th:only-of-type {\n",
              "        vertical-align: middle;\n",
              "    }\n",
              "\n",
              "    .dataframe tbody tr th {\n",
              "        vertical-align: top;\n",
              "    }\n",
              "\n",
              "    .dataframe thead th {\n",
              "        text-align: right;\n",
              "    }\n",
              "</style>\n",
              "<table border=\"1\" class=\"dataframe\">\n",
              "  <thead>\n",
              "    <tr style=\"text-align: right;\">\n",
              "      <th></th>\n",
              "      <th>text</th>\n",
              "      <th>target</th>\n",
              "    </tr>\n",
              "  </thead>\n",
              "  <tbody>\n",
              "    <tr>\n",
              "      <th>0</th>\n",
              "      <td>awww that s a bummer you shoulda got david car...</td>\n",
              "      <td>0</td>\n",
              "    </tr>\n",
              "    <tr>\n",
              "      <th>1</th>\n",
              "      <td>is upset that he can t update his facebook by ...</td>\n",
              "      <td>0</td>\n",
              "    </tr>\n",
              "    <tr>\n",
              "      <th>2</th>\n",
              "      <td>i dived many times for the ball managed to sav...</td>\n",
              "      <td>0</td>\n",
              "    </tr>\n",
              "    <tr>\n",
              "      <th>3</th>\n",
              "      <td>my whole body feels itchy and like its on fire</td>\n",
              "      <td>0</td>\n",
              "    </tr>\n",
              "    <tr>\n",
              "      <th>4</th>\n",
              "      <td>no it s not behaving at all i m mad why am i h...</td>\n",
              "      <td>0</td>\n",
              "    </tr>\n",
              "  </tbody>\n",
              "</table>\n",
              "</div>"
            ],
            "text/plain": [
              "                                                text  target\n",
              "0  awww that s a bummer you shoulda got david car...       0\n",
              "1  is upset that he can t update his facebook by ...       0\n",
              "2  i dived many times for the ball managed to sav...       0\n",
              "3     my whole body feels itchy and like its on fire       0\n",
              "4  no it s not behaving at all i m mad why am i h...       0"
            ]
          },
          "metadata": {
            "tags": []
          },
          "execution_count": 2
        }
      ]
    },
    {
      "cell_type": "code",
      "metadata": {
        "id": "w4LPKS9SnhqB",
        "colab_type": "code",
        "outputId": "378a88e5-4cd5-4669-988c-4108ba8e9353",
        "colab": {
          "base_uri": "https://localhost:8080/",
          "height": 34
        }
      },
      "source": [
        "dataframe.shape"
      ],
      "execution_count": 3,
      "outputs": [
        {
          "output_type": "execute_result",
          "data": {
            "text/plain": [
              "(1600000, 2)"
            ]
          },
          "metadata": {
            "tags": []
          },
          "execution_count": 3
        }
      ]
    },
    {
      "cell_type": "markdown",
      "metadata": {
        "id": "ZLWEuI2c85-o",
        "colab_type": "text"
      },
      "source": [
        "There was 1.600.000 tweets in this dataset."
      ]
    },
    {
      "cell_type": "markdown",
      "metadata": {
        "id": "HDcb5cHrpJsi",
        "colab_type": "text"
      },
      "source": [
        "### Replacing Name of Columns"
      ]
    },
    {
      "cell_type": "code",
      "metadata": {
        "id": "OdOnIE7Tkpni",
        "colab_type": "code",
        "colab": {}
      },
      "source": [
        "dataframe = dataframe.rename(columns={'target':'sentiment'})"
      ],
      "execution_count": 0,
      "outputs": []
    },
    {
      "cell_type": "code",
      "metadata": {
        "id": "v7SrKVJKk5dC",
        "colab_type": "code",
        "outputId": "a4327d22-d12d-49e7-ff07-e94d77297e20",
        "colab": {
          "base_uri": "https://localhost:8080/",
          "height": 204
        }
      },
      "source": [
        "dataframe.head()"
      ],
      "execution_count": 5,
      "outputs": [
        {
          "output_type": "execute_result",
          "data": {
            "text/html": [
              "<div>\n",
              "<style scoped>\n",
              "    .dataframe tbody tr th:only-of-type {\n",
              "        vertical-align: middle;\n",
              "    }\n",
              "\n",
              "    .dataframe tbody tr th {\n",
              "        vertical-align: top;\n",
              "    }\n",
              "\n",
              "    .dataframe thead th {\n",
              "        text-align: right;\n",
              "    }\n",
              "</style>\n",
              "<table border=\"1\" class=\"dataframe\">\n",
              "  <thead>\n",
              "    <tr style=\"text-align: right;\">\n",
              "      <th></th>\n",
              "      <th>text</th>\n",
              "      <th>sentiment</th>\n",
              "    </tr>\n",
              "  </thead>\n",
              "  <tbody>\n",
              "    <tr>\n",
              "      <th>0</th>\n",
              "      <td>awww that s a bummer you shoulda got david car...</td>\n",
              "      <td>0</td>\n",
              "    </tr>\n",
              "    <tr>\n",
              "      <th>1</th>\n",
              "      <td>is upset that he can t update his facebook by ...</td>\n",
              "      <td>0</td>\n",
              "    </tr>\n",
              "    <tr>\n",
              "      <th>2</th>\n",
              "      <td>i dived many times for the ball managed to sav...</td>\n",
              "      <td>0</td>\n",
              "    </tr>\n",
              "    <tr>\n",
              "      <th>3</th>\n",
              "      <td>my whole body feels itchy and like its on fire</td>\n",
              "      <td>0</td>\n",
              "    </tr>\n",
              "    <tr>\n",
              "      <th>4</th>\n",
              "      <td>no it s not behaving at all i m mad why am i h...</td>\n",
              "      <td>0</td>\n",
              "    </tr>\n",
              "  </tbody>\n",
              "</table>\n",
              "</div>"
            ],
            "text/plain": [
              "                                                text  sentiment\n",
              "0  awww that s a bummer you shoulda got david car...          0\n",
              "1  is upset that he can t update his facebook by ...          0\n",
              "2  i dived many times for the ball managed to sav...          0\n",
              "3     my whole body feels itchy and like its on fire          0\n",
              "4  no it s not behaving at all i m mad why am i h...          0"
            ]
          },
          "metadata": {
            "tags": []
          },
          "execution_count": 5
        }
      ]
    },
    {
      "cell_type": "markdown",
      "metadata": {
        "id": "QRE9D3NxpQmk",
        "colab_type": "text"
      },
      "source": [
        "### Replacing to Sentiment Values"
      ]
    },
    {
      "cell_type": "code",
      "metadata": {
        "id": "vyk4C2IJl7KU",
        "colab_type": "code",
        "colab": {}
      },
      "source": [
        "dataframe.sentiment.replace([0, 1], ['negative', 'positive'], inplace=True)"
      ],
      "execution_count": 0,
      "outputs": []
    },
    {
      "cell_type": "code",
      "metadata": {
        "id": "nCu__lD8ngdg",
        "colab_type": "code",
        "outputId": "8b86bfd6-ec92-4a89-9bf6-01f6c1f392b0",
        "colab": {
          "base_uri": "https://localhost:8080/",
          "height": 204
        }
      },
      "source": [
        "dataframe.head()"
      ],
      "execution_count": 7,
      "outputs": [
        {
          "output_type": "execute_result",
          "data": {
            "text/html": [
              "<div>\n",
              "<style scoped>\n",
              "    .dataframe tbody tr th:only-of-type {\n",
              "        vertical-align: middle;\n",
              "    }\n",
              "\n",
              "    .dataframe tbody tr th {\n",
              "        vertical-align: top;\n",
              "    }\n",
              "\n",
              "    .dataframe thead th {\n",
              "        text-align: right;\n",
              "    }\n",
              "</style>\n",
              "<table border=\"1\" class=\"dataframe\">\n",
              "  <thead>\n",
              "    <tr style=\"text-align: right;\">\n",
              "      <th></th>\n",
              "      <th>text</th>\n",
              "      <th>sentiment</th>\n",
              "    </tr>\n",
              "  </thead>\n",
              "  <tbody>\n",
              "    <tr>\n",
              "      <th>0</th>\n",
              "      <td>awww that s a bummer you shoulda got david car...</td>\n",
              "      <td>negative</td>\n",
              "    </tr>\n",
              "    <tr>\n",
              "      <th>1</th>\n",
              "      <td>is upset that he can t update his facebook by ...</td>\n",
              "      <td>negative</td>\n",
              "    </tr>\n",
              "    <tr>\n",
              "      <th>2</th>\n",
              "      <td>i dived many times for the ball managed to sav...</td>\n",
              "      <td>negative</td>\n",
              "    </tr>\n",
              "    <tr>\n",
              "      <th>3</th>\n",
              "      <td>my whole body feels itchy and like its on fire</td>\n",
              "      <td>negative</td>\n",
              "    </tr>\n",
              "    <tr>\n",
              "      <th>4</th>\n",
              "      <td>no it s not behaving at all i m mad why am i h...</td>\n",
              "      <td>negative</td>\n",
              "    </tr>\n",
              "  </tbody>\n",
              "</table>\n",
              "</div>"
            ],
            "text/plain": [
              "                                                text sentiment\n",
              "0  awww that s a bummer you shoulda got david car...  negative\n",
              "1  is upset that he can t update his facebook by ...  negative\n",
              "2  i dived many times for the ball managed to sav...  negative\n",
              "3     my whole body feels itchy and like its on fire  negative\n",
              "4  no it s not behaving at all i m mad why am i h...  negative"
            ]
          },
          "metadata": {
            "tags": []
          },
          "execution_count": 7
        }
      ]
    },
    {
      "cell_type": "markdown",
      "metadata": {
        "id": "WFgJgmoSpZMq",
        "colab_type": "text"
      },
      "source": [
        "## Data Preprocessing\n",
        "Data tweet need to do the preprocessing by many technique preprocess data in order to make an easier analytics."
      ]
    },
    {
      "cell_type": "markdown",
      "metadata": {
        "id": "Acfv9ga3ps4y",
        "colab_type": "text"
      },
      "source": [
        "### Punctuation Removal\n",
        "This preprocessing data want to remove the punctuation character.<br>\n",
        "Punctional Character is like '', @, / etc"
      ]
    },
    {
      "cell_type": "code",
      "metadata": {
        "id": "KqubqqPkn-RT",
        "colab_type": "code",
        "outputId": "4df075c3-9c1a-4caa-8c73-e2c1de563dbd",
        "colab": {
          "base_uri": "https://localhost:8080/",
          "height": 204
        }
      },
      "source": [
        "dataframe['text'] = dataframe['text'].str.replace('[^\\w\\s]','')\n",
        "dataframe.head()"
      ],
      "execution_count": 8,
      "outputs": [
        {
          "output_type": "execute_result",
          "data": {
            "text/html": [
              "<div>\n",
              "<style scoped>\n",
              "    .dataframe tbody tr th:only-of-type {\n",
              "        vertical-align: middle;\n",
              "    }\n",
              "\n",
              "    .dataframe tbody tr th {\n",
              "        vertical-align: top;\n",
              "    }\n",
              "\n",
              "    .dataframe thead th {\n",
              "        text-align: right;\n",
              "    }\n",
              "</style>\n",
              "<table border=\"1\" class=\"dataframe\">\n",
              "  <thead>\n",
              "    <tr style=\"text-align: right;\">\n",
              "      <th></th>\n",
              "      <th>text</th>\n",
              "      <th>sentiment</th>\n",
              "    </tr>\n",
              "  </thead>\n",
              "  <tbody>\n",
              "    <tr>\n",
              "      <th>0</th>\n",
              "      <td>awww that s a bummer you shoulda got david car...</td>\n",
              "      <td>negative</td>\n",
              "    </tr>\n",
              "    <tr>\n",
              "      <th>1</th>\n",
              "      <td>is upset that he can t update his facebook by ...</td>\n",
              "      <td>negative</td>\n",
              "    </tr>\n",
              "    <tr>\n",
              "      <th>2</th>\n",
              "      <td>i dived many times for the ball managed to sav...</td>\n",
              "      <td>negative</td>\n",
              "    </tr>\n",
              "    <tr>\n",
              "      <th>3</th>\n",
              "      <td>my whole body feels itchy and like its on fire</td>\n",
              "      <td>negative</td>\n",
              "    </tr>\n",
              "    <tr>\n",
              "      <th>4</th>\n",
              "      <td>no it s not behaving at all i m mad why am i h...</td>\n",
              "      <td>negative</td>\n",
              "    </tr>\n",
              "  </tbody>\n",
              "</table>\n",
              "</div>"
            ],
            "text/plain": [
              "                                                text sentiment\n",
              "0  awww that s a bummer you shoulda got david car...  negative\n",
              "1  is upset that he can t update his facebook by ...  negative\n",
              "2  i dived many times for the ball managed to sav...  negative\n",
              "3     my whole body feels itchy and like its on fire  negative\n",
              "4  no it s not behaving at all i m mad why am i h...  negative"
            ]
          },
          "metadata": {
            "tags": []
          },
          "execution_count": 8
        }
      ]
    },
    {
      "cell_type": "markdown",
      "metadata": {
        "id": "ocM2CH8Oq4Ts",
        "colab_type": "text"
      },
      "source": [
        "### Stopword Removal\n",
        "This preprocessing data want to remove the stopword in the tweets. <br>\n",
        "stopword is a word that too much in use or like a conjunction that have no meaning."
      ]
    },
    {
      "cell_type": "code",
      "metadata": {
        "id": "kxCbNmqcqa71",
        "colab_type": "code",
        "outputId": "0f983150-99ed-4dbd-fc90-ee9346ff780d",
        "colab": {
          "base_uri": "https://localhost:8080/",
          "height": 204
        }
      },
      "source": [
        "stop = stopwords.words('english')\n",
        "dataframe['text'] = dataframe['text'].apply(lambda x: \" \".join(x for x in str(x).split() if x not in stop))\n",
        "dataframe['text'].head(10)"
      ],
      "execution_count": 9,
      "outputs": [
        {
          "output_type": "execute_result",
          "data": {
            "text/plain": [
              "0         awww bummer shoulda got david carr third day\n",
              "1    upset update facebook texting might cry result...\n",
              "2    dived many times ball managed save rest go bounds\n",
              "3                     whole body feels itchy like fire\n",
              "4                                     behaving mad see\n",
              "5                                           whole crew\n",
              "6                                             need hug\n",
              "7    hey long time see yes rains bit bit lol fine t...\n",
              "8                                               k nope\n",
              "9                                            que muera\n",
              "Name: text, dtype: object"
            ]
          },
          "metadata": {
            "tags": []
          },
          "execution_count": 9
        }
      ]
    },
    {
      "cell_type": "markdown",
      "metadata": {
        "id": "zs4sYZx2ro-J",
        "colab_type": "text"
      },
      "source": [
        "### Frequents Word Removal\n",
        "Remove the word that exist in all tweets."
      ]
    },
    {
      "cell_type": "code",
      "metadata": {
        "id": "Crnt1-LbrbDC",
        "colab_type": "code",
        "outputId": "68a687b6-a09a-4322-c8a5-efabedd917b1",
        "colab": {
          "base_uri": "https://localhost:8080/",
          "height": 374
        }
      },
      "source": [
        "freq = pd.Series(' '.join(dataframe['text']).split()).value_counts()[:20]\n",
        "freq"
      ],
      "execution_count": 10,
      "outputs": [
        {
          "output_type": "execute_result",
          "data": {
            "text/plain": [
              "good      91355\n",
              "day       89776\n",
              "get       82176\n",
              "like      78582\n",
              "go        74031\n",
              "today     68226\n",
              "work      64960\n",
              "love      64857\n",
              "going     64633\n",
              "got       61454\n",
              "lol       59276\n",
              "time      57971\n",
              "back      56977\n",
              "u         56380\n",
              "one       54090\n",
              "know      52065\n",
              "im        50670\n",
              "really    50039\n",
              "see       46382\n",
              "night     43965\n",
              "dtype: int64"
            ]
          },
          "metadata": {
            "tags": []
          },
          "execution_count": 10
        }
      ]
    },
    {
      "cell_type": "code",
      "metadata": {
        "id": "XeTaWUfWV9-F",
        "colab_type": "code",
        "colab": {}
      },
      "source": [
        "frequency = {'day', 'go', 'u', 'one', 'im', 'night','think', 'twitter', 'need', 'still', 'last', 'want', 'think', 'make', 'come', 'look', 'feel', 'friend'}"
      ],
      "execution_count": 0,
      "outputs": []
    },
    {
      "cell_type": "code",
      "metadata": {
        "id": "i5tC0Qzerjpd",
        "colab_type": "code",
        "outputId": "ff3b233d-3067-4a30-b38e-dc8edb4f7b60",
        "colab": {
          "base_uri": "https://localhost:8080/",
          "height": 119
        }
      },
      "source": [
        "freq = list(freq.index)\n",
        "dataframe['text'] = dataframe['text'].apply(lambda x: \" \".join(x for x in str(x).split() if x not in frequency))\n",
        "dataframe['text'].head()"
      ],
      "execution_count": 12,
      "outputs": [
        {
          "output_type": "execute_result",
          "data": {
            "text/plain": [
              "0             awww bummer shoulda got david carr third\n",
              "1    upset update facebook texting might cry result...\n",
              "2       dived many times ball managed save rest bounds\n",
              "3                     whole body feels itchy like fire\n",
              "4                                     behaving mad see\n",
              "Name: text, dtype: object"
            ]
          },
          "metadata": {
            "tags": []
          },
          "execution_count": 12
        }
      ]
    },
    {
      "cell_type": "markdown",
      "metadata": {
        "id": "hBsthDGcr0mB",
        "colab_type": "text"
      },
      "source": [
        "### Rare Words Removal\n",
        "Remove the words that indicate as a strange word."
      ]
    },
    {
      "cell_type": "code",
      "metadata": {
        "id": "LQ0_T844r2BN",
        "colab_type": "code",
        "outputId": "84ee6ea6-821a-4691-8115-458b1849c4fc",
        "colab": {
          "base_uri": "https://localhost:8080/",
          "height": 204
        }
      },
      "source": [
        "rare_word = pd.Series(' '.join(dataframe['text']).split()).value_counts()[-10:]\n",
        "rare_word"
      ],
      "execution_count": 13,
      "outputs": [
        {
          "output_type": "execute_result",
          "data": {
            "text/plain": [
              "ilikefranchiseking    1\n",
              "kcoms                 1\n",
              "aclocal               1\n",
              "probas                1\n",
              "cakespy               1\n",
              "villasenor            1\n",
              "tvw                   1\n",
              "catchinnn             1\n",
              "aspleep               1\n",
              "icstay                1\n",
              "dtype: int64"
            ]
          },
          "metadata": {
            "tags": []
          },
          "execution_count": 13
        }
      ]
    },
    {
      "cell_type": "code",
      "metadata": {
        "id": "7tT22mhNr7NQ",
        "colab_type": "code",
        "outputId": "ebfb79a1-6fa8-4408-a376-07455f09d610",
        "colab": {
          "base_uri": "https://localhost:8080/",
          "height": 119
        }
      },
      "source": [
        "rare_word = list(rare_word.index)\n",
        "dataframe['text'] = dataframe['text'].apply(lambda x: \" \".join(x for x in str(x).split() if x not in freq))\n",
        "dataframe['text'].head()"
      ],
      "execution_count": 14,
      "outputs": [
        {
          "output_type": "execute_result",
          "data": {
            "text/plain": [
              "0                 awww bummer shoulda david carr third\n",
              "1    upset update facebook texting might cry result...\n",
              "2       dived many times ball managed save rest bounds\n",
              "3                          whole body feels itchy fire\n",
              "4                                         behaving mad\n",
              "Name: text, dtype: object"
            ]
          },
          "metadata": {
            "tags": []
          },
          "execution_count": 14
        }
      ]
    },
    {
      "cell_type": "markdown",
      "metadata": {
        "id": "qZYAv_EPr40q",
        "colab_type": "text"
      },
      "source": [
        "###Spelling Correction\n",
        "repair the typo word"
      ]
    },
    {
      "cell_type": "code",
      "metadata": {
        "id": "KWpTl8whsDtc",
        "colab_type": "code",
        "outputId": "af2a7736-eec1-4653-c145-765656b2c504",
        "colab": {
          "base_uri": "https://localhost:8080/",
          "height": 119
        }
      },
      "source": [
        "#Spelling correction\n",
        "dataframe['text'][:5].apply(lambda x: str(TextBlob(x).correct()))"
      ],
      "execution_count": 15,
      "outputs": [
        {
          "output_type": "execute_result",
          "data": {
            "text/plain": [
              "0                   www summer should david care third\n",
              "1    upset update facebook testing might cry result...\n",
              "2       dived many times ball managed save rest bounds\n",
              "3                          whole body feels itchy fire\n",
              "4                                         behaving mad\n",
              "Name: text, dtype: object"
            ]
          },
          "metadata": {
            "tags": []
          },
          "execution_count": 15
        }
      ]
    },
    {
      "cell_type": "markdown",
      "metadata": {
        "id": "9Lk4C05GsMl3",
        "colab_type": "text"
      },
      "source": [
        "### Tokenization\n",
        "split word in tweets"
      ]
    },
    {
      "cell_type": "code",
      "metadata": {
        "id": "IFjjpaS7sN-m",
        "colab_type": "code",
        "outputId": "6d23bb13-859c-49a5-932c-569215ea0653",
        "colab": {
          "base_uri": "https://localhost:8080/",
          "height": 34
        }
      },
      "source": [
        "TextBlob(dataframe['text'][1]).words"
      ],
      "execution_count": 16,
      "outputs": [
        {
          "output_type": "execute_result",
          "data": {
            "text/plain": [
              "WordList(['upset', 'update', 'facebook', 'texting', 'might', 'cry', 'result', 'school', 'also', 'blah'])"
            ]
          },
          "metadata": {
            "tags": []
          },
          "execution_count": 16
        }
      ]
    },
    {
      "cell_type": "markdown",
      "metadata": {
        "id": "tnka7ECNuF44",
        "colab_type": "text"
      },
      "source": [
        "## Data Exploration"
      ]
    },
    {
      "cell_type": "code",
      "metadata": {
        "id": "Qd4MwiSUuHZz",
        "colab_type": "code",
        "outputId": "47e354e7-c481-4893-f6b7-fab4e88a471c",
        "colab": {
          "base_uri": "https://localhost:8080/",
          "height": 111
        }
      },
      "source": [
        "#count sentiment \n",
        "sentiment = dataframe.groupby(['sentiment'])['sentiment'].count()\n",
        "sentiment\n",
        "\n",
        "#make dataframe that will be created a chart \n",
        "chart = pd.DataFrame(sentiment)\n",
        "chart['tweet_count'] = chart['sentiment']\n",
        "chart.drop(['sentiment'], axis = 1, inplace = True )\n",
        "chart = chart.reset_index()\n",
        "\n",
        "#make a proportion of the number of tweet of each sentiment \n",
        "chart['percent'] = chart['tweet_count']/chart['tweet_count'].sum()\n",
        "chart"
      ],
      "execution_count": 17,
      "outputs": [
        {
          "output_type": "execute_result",
          "data": {
            "text/html": [
              "<div>\n",
              "<style scoped>\n",
              "    .dataframe tbody tr th:only-of-type {\n",
              "        vertical-align: middle;\n",
              "    }\n",
              "\n",
              "    .dataframe tbody tr th {\n",
              "        vertical-align: top;\n",
              "    }\n",
              "\n",
              "    .dataframe thead th {\n",
              "        text-align: right;\n",
              "    }\n",
              "</style>\n",
              "<table border=\"1\" class=\"dataframe\">\n",
              "  <thead>\n",
              "    <tr style=\"text-align: right;\">\n",
              "      <th></th>\n",
              "      <th>sentiment</th>\n",
              "      <th>tweet_count</th>\n",
              "      <th>percent</th>\n",
              "    </tr>\n",
              "  </thead>\n",
              "  <tbody>\n",
              "    <tr>\n",
              "      <th>0</th>\n",
              "      <td>negative</td>\n",
              "      <td>800000</td>\n",
              "      <td>0.5</td>\n",
              "    </tr>\n",
              "    <tr>\n",
              "      <th>1</th>\n",
              "      <td>positive</td>\n",
              "      <td>800000</td>\n",
              "      <td>0.5</td>\n",
              "    </tr>\n",
              "  </tbody>\n",
              "</table>\n",
              "</div>"
            ],
            "text/plain": [
              "  sentiment  tweet_count  percent\n",
              "0  negative       800000      0.5\n",
              "1  positive       800000      0.5"
            ]
          },
          "metadata": {
            "tags": []
          },
          "execution_count": 17
        }
      ]
    },
    {
      "cell_type": "code",
      "metadata": {
        "id": "VFOfh_Kex4np",
        "colab_type": "code",
        "outputId": "c96d3c8a-8703-47c1-bf10-7df06b5e5c24",
        "colab": {
          "base_uri": "https://localhost:8080/",
          "height": 312
        }
      },
      "source": [
        "ax = sns.barplot(x= 'sentiment', y='tweet_count', data=chart)\n",
        "ax.set_title('Sentiment Class')"
      ],
      "execution_count": 18,
      "outputs": [
        {
          "output_type": "execute_result",
          "data": {
            "text/plain": [
              "Text(0.5, 1.0, 'Sentiment Class')"
            ]
          },
          "metadata": {
            "tags": []
          },
          "execution_count": 18
        },
        {
          "output_type": "display_data",
          "data": {
            "image/png": "[encoded data removed]",
            "text/plain": [
              "<Figure size 432x288 with 1 Axes>"
            ]
          },
          "metadata": {
            "tags": []
          }
        }
      ]
    },
    {
      "cell_type": "markdown",
      "metadata": {
        "id": "A7EmmhAE30VL",
        "colab_type": "text"
      },
      "source": [
        "The positive and negative tweets has the same amount in 8000 tweets"
      ]
    },
    {
      "cell_type": "code",
      "metadata": {
        "id": "dXKtZ7TeybG6",
        "colab_type": "code",
        "colab": {}
      },
      "source": [
        "#define positive and negative sentiment\n",
        "positive = dataframe.loc[dataframe['sentiment'] == \"positive\"]\n",
        "negative = dataframe.loc[dataframe['sentiment'] == \"negative\"]"
      ],
      "execution_count": 0,
      "outputs": []
    },
    {
      "cell_type": "code",
      "metadata": {
        "id": "eVR6SiGdzlCr",
        "colab_type": "code",
        "colab": {}
      },
      "source": [
        "#merge all sentiment comments into one paragraph\n",
        "positive_sentiment = \"\".join(positive.text.values)\n",
        "negative_sentiment = \"\".join(negative.text.values)"
      ],
      "execution_count": 0,
      "outputs": []
    },
    {
      "cell_type": "code",
      "metadata": {
        "id": "pnWBCdU80LFB",
        "colab_type": "code",
        "colab": {}
      },
      "source": [
        "def create_word_cloud(string):\n",
        "    cloud = WordCloud(background_color = \"white\", max_words = 200, stopwords = set(STOPWORDS)).generate(string)\n",
        "    plt.imshow(cloud, interpolation='bilinear')\n",
        "    plt.axis('off')\n",
        "    plt.show()"
      ],
      "execution_count": 0,
      "outputs": []
    },
    {
      "cell_type": "code",
      "metadata": {
        "id": "iXcFQnPk0tIr",
        "colab_type": "code",
        "outputId": "55eb6b6b-1290-4a8e-ecc0-7838be902912",
        "colab": {
          "base_uri": "https://localhost:8080/",
          "height": 219
        }
      },
      "source": [
        "create_word_cloud(positive_sentiment)"
      ],
      "execution_count": 22,
      "outputs": [
        {
          "output_type": "display_data",
          "data": {
            "image/png": "[encoded data removed]",
            "text/plain": [
              "<Figure size 432x288 with 1 Axes>"
            ]
          },
          "metadata": {
            "tags": []
          }
        }
      ]
    },
    {
      "cell_type": "markdown",
      "metadata": {
        "id": "4oK_pcq0CFMy",
        "colab_type": "text"
      },
      "source": [
        "In positive statement, word that have the highest frequency is thank, great, nice, weel, fun, love, right, awesome, etc"
      ]
    },
    {
      "cell_type": "code",
      "metadata": {
        "id": "SPdcZJO20o5F",
        "colab_type": "code",
        "colab": {
          "base_uri": "https://localhost:8080/",
          "height": 219
        },
        "outputId": "a07191b5-4c46-42b1-e8c7-63570c4fa25b"
      },
      "source": [
        "create_word_cloud(negative_sentiment)"
      ],
      "execution_count": 23,
      "outputs": [
        {
          "output_type": "display_data",
          "data": {
            "image/png": "[encoded data removed]",
            "text/plain": [
              "<Figure size 432x288 with 1 Axes>"
            ]
          },
          "metadata": {
            "tags": []
          }
        }
      ]
    },
    {
      "cell_type": "markdown",
      "metadata": {
        "id": "dCfnlozSd430",
        "colab_type": "text"
      },
      "source": [
        "In negative statement, word that have the highest frequency is miss, bad, sad."
      ]
    },
    {
      "cell_type": "markdown",
      "metadata": {
        "id": "Yx7xH94z3_O5",
        "colab_type": "text"
      },
      "source": [
        "## Feature Extraction"
      ]
    },
    {
      "cell_type": "markdown",
      "metadata": {
        "id": "-IuWFrMz4Unu",
        "colab_type": "text"
      },
      "source": [
        "### Count Vectorizer\n",
        "The CountVectorizer provides a simple way to both tokenize a collection of text documents and build a vocabulary of known words, but also to encode new documents using that vocabulary."
      ]
    },
    {
      "cell_type": "code",
      "metadata": {
        "id": "W7dIz2Cx4Bkn",
        "colab_type": "code",
        "colab": {}
      },
      "source": [
        "from sklearn.feature_extraction.text import CountVectorizer\n",
        "count_vectorizer = CountVectorizer(stop_words='english')"
      ],
      "execution_count": 0,
      "outputs": []
    },
    {
      "cell_type": "markdown",
      "metadata": {
        "id": "mr-YQ6S54o8Q",
        "colab_type": "text"
      },
      "source": [
        "### TF-IDF vectorizer\n",
        "The TF-IDV Vectorizer will tokenize documents, learn the vocabulary and inverse document frequency weightings, and allow you to encode new documents. "
      ]
    },
    {
      "cell_type": "code",
      "metadata": {
        "id": "H59YdTV-4XSX",
        "colab_type": "code",
        "colab": {}
      },
      "source": [
        "from sklearn.feature_extraction.text import TfidfVectorizer\n",
        "tfidf = TfidfVectorizer(stop_words='english' )"
      ],
      "execution_count": 0,
      "outputs": []
    },
    {
      "cell_type": "markdown",
      "metadata": {
        "id": "OWe4C9So49lj",
        "colab_type": "text"
      },
      "source": [
        "## Split Data\n",
        "We want to split the data by data testing and data training to make a modelling."
      ]
    },
    {
      "cell_type": "code",
      "metadata": {
        "id": "KJO-vyKztslw",
        "colab_type": "code",
        "colab": {}
      },
      "source": [
        "X = dataframe['text']\n",
        "y = dataframe['sentiment']"
      ],
      "execution_count": 0,
      "outputs": []
    },
    {
      "cell_type": "code",
      "metadata": {
        "id": "38-6BYtitx2B",
        "colab_type": "code",
        "colab": {}
      },
      "source": [
        "#countvectorizer\n",
        "X_vectorizer = count_vectorizer.fit_transform(X)\n",
        "\n",
        "#tfidf vectorizer\n",
        "X_tfidf = tfidf.fit_transform(X)"
      ],
      "execution_count": 0,
      "outputs": []
    },
    {
      "cell_type": "code",
      "metadata": {
        "id": "dXucWHo7tzov",
        "colab_type": "code",
        "colab": {}
      },
      "source": [
        "from sklearn.model_selection import train_test_split\n",
        "#train test split using countvectorizer \n",
        "train_X_vectorizer, test_X_vectorizer, train_y, test_y = train_test_split(X_vectorizer, y, test_size=0.2, random_state=0)\n",
        "\n",
        "#train test split using tfidfvectorizer \n",
        "train_X_tfidf, test_X_tfidf, train_y, test_y = train_test_split(X_tfidf, y, test_size=0.2, random_state=0)"
      ],
      "execution_count": 0,
      "outputs": []
    },
    {
      "cell_type": "markdown",
      "metadata": {
        "id": "rzPk8FRU43Rd",
        "colab_type": "text"
      },
      "source": [
        "## Modelling\n",
        "\n",
        "Modelling that we want to use in this case is classification modelling using Logistic Regression, NaiveBayer and Random Forest Classifier Algorithm."
      ]
    },
    {
      "cell_type": "markdown",
      "metadata": {
        "id": "V2fs3KRAuIKq",
        "colab_type": "text"
      },
      "source": [
        "### Logistic Regression\n",
        "\n",
        "**Logistic regression** is the appropriate regression analysis to conduct when the dependent variable is dichotomous (binary).  Like all regression analyses, the logistic regression is a predictive analysis. \n",
        "\n",
        "In this case, we know that we've done to divide the data to data train and data test. And we also define the X variable as variable independent which is the text or the tweet and Y as variable dependent which is the sentiment result.\n",
        "\n",
        "Now, with Logistic Regression by the data train and data test, we want to know how much the relationship of make a sentiment by tweet."
      ]
    },
    {
      "cell_type": "code",
      "metadata": {
        "id": "6BKmsuVrt9-1",
        "colab_type": "code",
        "colab": {
          "base_uri": "https://localhost:8080/",
          "height": 71
        },
        "outputId": "1ab5a70c-4947-4d61-8250-226678379be8"
      },
      "source": [
        "from sklearn.linear_model import LogisticRegression\n",
        "# Countvectorizer \n",
        "Lr_vect = LogisticRegression()\n",
        "Lr_vect.fit(train_X_vectorizer,train_y)\n",
        "Lr_pred_vect_train = Lr_vect.predict(train_X_vectorizer)\n",
        "Lr_pred_vect_test = Lr_vect.predict(test_X_vectorizer)"
      ],
      "execution_count": 33,
      "outputs": [
        {
          "output_type": "stream",
          "text": [
            "/usr/local/lib/python3.6/dist-packages/sklearn/linear_model/logistic.py:432: FutureWarning: Default solver will be changed to 'lbfgs' in 0.22. Specify a solver to silence this warning.\n",
            "  FutureWarning)\n"
          ],
          "name": "stderr"
        }
      ]
    },
    {
      "cell_type": "code",
      "metadata": {
        "id": "Ww85-P_OuCBh",
        "colab_type": "code",
        "colab": {
          "base_uri": "https://localhost:8080/",
          "height": 71
        },
        "outputId": "1fe217df-d4c5-413f-88b9-6a5dcb7c107b"
      },
      "source": [
        "# TFIDFVectorizer\n",
        "Lr_tfidf = LogisticRegression()\n",
        "Lr_tfidf.fit(train_X_tfidf,train_y)\n",
        "Lr_pred_tfidf_train = Lr_tfidf.predict(train_X_tfidf)\n",
        "Lr_pred_tfidf_test = Lr_tfidf.predict(test_X_tfidf)"
      ],
      "execution_count": 34,
      "outputs": [
        {
          "output_type": "stream",
          "text": [
            "/usr/local/lib/python3.6/dist-packages/sklearn/linear_model/logistic.py:432: FutureWarning: Default solver will be changed to 'lbfgs' in 0.22. Specify a solver to silence this warning.\n",
            "  FutureWarning)\n"
          ],
          "name": "stderr"
        }
      ]
    },
    {
      "cell_type": "markdown",
      "metadata": {
        "id": "I7Cu9jNkuKwB",
        "colab_type": "text"
      },
      "source": [
        "### Naive Bayes\n",
        "**Naive Bayes** is a simple technique for constructing classifiers: models that assign class labels to problem instances, represented as vectors of feature values, where the class labels are drawn from some finite set. "
      ]
    },
    {
      "cell_type": "code",
      "metadata": {
        "id": "wTIu4lUJuPFU",
        "colab_type": "code",
        "colab": {}
      },
      "source": [
        "from sklearn.naive_bayes import MultinomialNB\n",
        "# Countvectorizer\n",
        "NB_vect = MultinomialNB()\n",
        "NB_vect.fit(train_X_vectorizer,train_y)\n",
        "NB_pred_vect_train = NB_vect.predict(train_X_vectorizer)\n",
        "NB_pred_vect_test = NB_vect.predict(test_X_vectorizer)"
      ],
      "execution_count": 0,
      "outputs": []
    },
    {
      "cell_type": "code",
      "metadata": {
        "id": "ufhNfAAFuRqK",
        "colab_type": "code",
        "colab": {}
      },
      "source": [
        "# TFIDFVectorizer\n",
        "#from sklearn.naive_bayes import GaussianNB\n",
        "NB_tfidf = MultinomialNB()\n",
        "NB_tfidf.fit(train_X_tfidf,train_y)\n",
        "NB_pred_tfidf_train = NB_tfidf.predict(train_X_tfidf)\n",
        "NB_pred_tfidf_test = NB_tfidf.predict(test_X_tfidf)"
      ],
      "execution_count": 0,
      "outputs": []
    },
    {
      "cell_type": "markdown",
      "metadata": {
        "id": "duZBK2ZNv71F",
        "colab_type": "text"
      },
      "source": [
        "## Model Evaluation\n",
        "\n",
        "In this part, model evaluation can be seen by using accuracy, precision, recall and F_measure. \n",
        "\n",
        "- **Accuracy** is the most intuitive performance measure and it is simply a ratio of correctly predicted observation to the total observations.\n",
        "- **Precision** is the ratio of correctly predicted positive observations to the total predicted positive observations. \n",
        "- **Recall** (Sensitivity) - Recall is the ratio of correctly predicted positive observations to the all observations in actual class - yes.\n",
        "- **F_measure** (F1 score)<br>\n",
        "F1 Score is the weighted average of Precision and Recall."
      ]
    },
    {
      "cell_type": "markdown",
      "metadata": {
        "id": "kbXEfFQ_wXWg",
        "colab_type": "text"
      },
      "source": [
        "### Logistic Regression"
      ]
    },
    {
      "cell_type": "code",
      "metadata": {
        "id": "ORr1f9UMxPP0",
        "colab_type": "code",
        "colab": {}
      },
      "source": [
        "#import sklearn for model evaluation \n",
        "from sklearn.metrics import confusion_matrix, classification_report\n",
        "from sklearn.metrics import accuracy_score, precision_score, recall_score, f1_score"
      ],
      "execution_count": 0,
      "outputs": []
    },
    {
      "cell_type": "code",
      "metadata": {
        "id": "Icqw-MnOwbzK",
        "colab_type": "code",
        "colab": {
          "base_uri": "https://localhost:8080/",
          "height": 102
        },
        "outputId": "6b0aed42-d8e2-4ba6-80d0-e32e987c3d95"
      },
      "source": [
        "# using count vectorizer\n",
        "print(\"______________ Countvectorizer ______________\")\n",
        "\n",
        "\n",
        "# Lr_clf_vec_report_train = classification_report(train_y, Lr_pred_vect_train)\n",
        "# Lr_clf_vec_report_test = classification_report(test_y, Lr_pred_vect_test)\n",
        "\n",
        "# Lr_confmatrix_vect_train = confusion_matrix(train_y, Lr_pred_vect_train) \n",
        "# Lr_confmatrix_vect_test = confusion_matrix(test_y, Lr_pred_vect_test)\n",
        "\n",
        "Lr_recall_vec_train = recall_score(train_y, Lr_pred_vect_train, average=\"micro\")\n",
        "Lr_recall_vec_test = recall_score(test_y, Lr_pred_vect_test,average=\"micro\") \n",
        "\n",
        "Lr_precision_vec_train = precision_score(train_y, Lr_pred_vect_train,average=\"micro\")\n",
        "Lr_precision_vec_test = precision_score(test_y, Lr_pred_vect_test,average=\"micro\")\n",
        "\n",
        "Lr_f1_score_vec_train = f1_score(train_y, Lr_pred_vect_train,average=\"micro\")\n",
        "Lr_f1_score_vec_test = f1_score(test_y,Lr_pred_vect_test,average=\"micro\")\n",
        "\n",
        "print('Information :')\n",
        "# print('Confusion matrix for Train :')\n",
        "# print(Lr_confmatrix_vect_train,'\\n')\n",
        "# print('Confusion matrix for Test :')\n",
        "# print(Lr_confmatrix_vect_test,'\\n')\n",
        "# print('Classification Refort for Train :')\n",
        "# print(Lr_clf_vec_report_train,'\\n')\n",
        "# print('Classification Refort for Test :')\n",
        "# print(Lr_clf_vec_report_test,'\\n')\n",
        "print('Recall train & test     : %.2f%%' % (Lr_recall_vec_train * 100), '&', '%.2f%%' % (Lr_recall_vec_test * 100))\n",
        "print('Precision train & test  : %.2f%%' % (Lr_precision_vec_train * 100), '&', '%.2f%%' % (Lr_precision_vec_test * 100))\n",
        "print('F1 Score train & test   : %.2f%%' % (Lr_f1_score_vec_train * 100), '&', '%.2f%%' % (Lr_f1_score_vec_test * 100))"
      ],
      "execution_count": 40,
      "outputs": [
        {
          "output_type": "stream",
          "text": [
            "______________ Countvectorizer ______________\n",
            "Information :\n",
            "Recall train & test     : 79.75% & 76.25%\n",
            "Precision train & test  : 79.75% & 76.25%\n",
            "F1 Score train & test   : 79.75% & 76.25%\n"
          ],
          "name": "stdout"
        }
      ]
    },
    {
      "cell_type": "code",
      "metadata": {
        "id": "nYu-FtOqwhN0",
        "colab_type": "code",
        "colab": {
          "base_uri": "https://localhost:8080/",
          "height": 102
        },
        "outputId": "99ebef66-0bc4-4ee2-da31-6e651282b2b4"
      },
      "source": [
        "# using count vectorizer\n",
        "print(\"______________ TF-IDF ______________\")\n",
        "\n",
        "\n",
        "Lr_recall_tfidf_train = recall_score(train_y, Lr_pred_tfidf_train, average=\"micro\")\n",
        "Lr_recall_tfidf_test = recall_score(test_y, Lr_pred_tfidf_test,average=\"micro\") \n",
        "\n",
        "Lr_precision_tfidf_train = precision_score(train_y, Lr_pred_tfidf_train,average=\"micro\")\n",
        "Lr_precision_tfidf_test = precision_score(test_y, Lr_pred_tfidf_test,average=\"micro\")\n",
        "\n",
        "Lr_f1_score_tfidf_train = f1_score(train_y, Lr_pred_tfidf_train,average=\"micro\")\n",
        "Lr_f1_score_tfidf_test = f1_score(test_y,Lr_pred_tfidf_test,average=\"micro\")\n",
        "\n",
        "print('Information :')\n",
        "print('Recall train & test     : %.2f%%' % (Lr_recall_tfidf_train * 100), '&', '%.2f%%' % (Lr_recall_tfidf_test * 100))\n",
        "print('Precision train & test  : %.2f%%' % (Lr_precision_tfidf_train * 100), '&', '%.2f%%' % (Lr_precision_tfidf_test * 100))\n",
        "print('F1 Score train & test   : %.2f%%' % (Lr_f1_score_tfidf_train * 100), '&', '%.2f%%' % (Lr_f1_score_vec_test * 100))"
      ],
      "execution_count": 41,
      "outputs": [
        {
          "output_type": "stream",
          "text": [
            "______________ TF-IDF ______________\n",
            "Information :\n",
            "Recall train & test     : 78.89% & 76.44%\n",
            "Precision train & test  : 78.89% & 76.44%\n",
            "F1 Score train & test   : 78.89% & 76.25%\n"
          ],
          "name": "stdout"
        }
      ]
    },
    {
      "cell_type": "markdown",
      "metadata": {
        "id": "V9gMUHlbwc1Q",
        "colab_type": "text"
      },
      "source": [
        "### Naive Bayes"
      ]
    },
    {
      "cell_type": "code",
      "metadata": {
        "id": "TOMq18gmwpij",
        "colab_type": "code",
        "colab": {
          "base_uri": "https://localhost:8080/",
          "height": 102
        },
        "outputId": "a1dc8c16-72bf-4669-a132-ec1a6b99dc6c"
      },
      "source": [
        "# find model evaluation for naive bayes\n",
        "# using count vectorizer\n",
        "print(\"______________ Countvectorizer ______________\")\n",
        "\n",
        "\n",
        "NB_recall_vec_train = recall_score(train_y, NB_pred_vect_train, average=\"micro\")\n",
        "NB_recall_vec_test = recall_score(test_y, NB_pred_vect_test,average=\"micro\") \n",
        "\n",
        "NB_precision_vec_train = precision_score(train_y, NB_pred_vect_train,average=\"micro\")\n",
        "NB_precision_vec_test = precision_score(test_y, NB_pred_vect_test,average=\"micro\")\n",
        "\n",
        "NB_f1_score_vec_train = f1_score(train_y, NB_pred_vect_train,average=\"micro\")\n",
        "NB_f1_score_vec_test = f1_score(test_y,NB_pred_vect_test,average=\"micro\")\n",
        "\n",
        "print('Information :')\n",
        "print('Recall train & test     : %.2f%%' % (NB_recall_vec_train * 100), '&', '%.2f%%' % (NB_recall_vec_test * 100))\n",
        "print('Precision train & test  : %.2f%%' % (NB_precision_vec_train * 100), '&', '%.2f%%' % (NB_precision_vec_test * 100))\n",
        "print('F1 Score train & test   : %.2f%%' % (NB_f1_score_vec_train * 100), '&', '%.2f%%' % (NB_f1_score_vec_test * 100))"
      ],
      "execution_count": 42,
      "outputs": [
        {
          "output_type": "stream",
          "text": [
            "______________ Countvectorizer ______________\n",
            "Information :\n",
            "Recall train & test     : 78.60% & 75.65%\n",
            "Precision train & test  : 78.60% & 75.65%\n",
            "F1 Score train & test   : 78.60% & 75.65%\n"
          ],
          "name": "stdout"
        }
      ]
    },
    {
      "cell_type": "code",
      "metadata": {
        "id": "kSVuz9hVwrv7",
        "colab_type": "code",
        "colab": {
          "base_uri": "https://localhost:8080/",
          "height": 102
        },
        "outputId": "a3d724d2-2dbf-473f-e57f-6f55cdabae75"
      },
      "source": [
        "# using count vectorizer\n",
        "print(\"______________ TF-IDF ______________\")\n",
        "\n",
        "\n",
        "NB_recall_tfidf_train = recall_score(train_y, NB_pred_tfidf_train, average=\"micro\")\n",
        "NB_recall_tfidf_test = recall_score(test_y, NB_pred_tfidf_test,average=\"micro\") \n",
        "\n",
        "NB_precision_tfidf_train = precision_score(train_y, NB_pred_tfidf_train,average=\"micro\")\n",
        "NB_precision_tfidf_test = precision_score(test_y, NB_pred_tfidf_test,average=\"micro\")\n",
        "\n",
        "NB_f1_score_tfidf_train = f1_score(train_y, NB_pred_tfidf_train,average=\"micro\")\n",
        "NB_f1_score_tfidf_test = f1_score(test_y,NB_pred_tfidf_test,average=\"micro\")\n",
        "\n",
        "print('Information :')\n",
        "print('Recall train & test     : %.2f%%' % (NB_recall_tfidf_train * 100), '&', '%.2f%%' % (NB_recall_tfidf_test * 100))\n",
        "print('Precision train & test  : %.2f%%' % (NB_precision_tfidf_train * 100), '&', '%.2f%%' % (NB_precision_tfidf_test * 100))\n",
        "print('F1 Score train & test   : %.2f%%' % (NB_f1_score_tfidf_train * 100), '&', '%.2f%%' % (NB_f1_score_vec_test * 100))"
      ],
      "execution_count": 43,
      "outputs": [
        {
          "output_type": "stream",
          "text": [
            "______________ TF-IDF ______________\n",
            "Information :\n",
            "Recall train & test     : 78.65% & 75.09%\n",
            "Precision train & test  : 78.65% & 75.09%\n",
            "F1 Score train & test   : 78.65% & 75.65%\n"
          ],
          "name": "stdout"
        }
      ]
    },
    {
      "cell_type": "markdown",
      "metadata": {
        "id": "6F3ZRIYt8Iy7",
        "colab_type": "text"
      },
      "source": [
        "## Conclussion"
      ]
    },
    {
      "cell_type": "markdown",
      "metadata": {
        "id": "Y9rQCt7l8Lio",
        "colab_type": "text"
      },
      "source": [
        "There was 1.600.000 tweets in this dataset. Where the sentiment has been done for all tweets. \n",
        "\n",
        "The result is **symmetric dataset** with Positive tweets with 50% of data and Negative 50% tweets with 50% of data. \n",
        "\n",
        "The result of **positive sentiment**, word that have the highest frequency is thank, great, nice, weel, fun, love, right, awesome, etc.\n",
        "\n",
        "The result **negative sentiment**, word that have the highest frequency is miss, bad, sad.\n",
        "\n"
      ]
    },
    {
      "cell_type": "markdown",
      "metadata": {
        "id": "UgaSAwZ0-u4c",
        "colab_type": "text"
      },
      "source": [
        "In this case, we know that we've done to divide the data to data train and data test. And we also define the X variable as variable independent which is the text or the tweet and Y as variable dependent which is the sentiment result.\n",
        "\n",
        "Now, with Logistic Regression and Naive Bayes by the data train and data test, we want to know how much the relationship of make a sentiment by tweet."
      ]
    },
    {
      "cell_type": "markdown",
      "metadata": {
        "id": "xc7jkMRC_BPS",
        "colab_type": "text"
      },
      "source": [
        "By testing both of the algorithm, **Logistic Regression model is better than than Naive Bayes model.** Because the values of Logistic Regression recall, precission , F1 score is higher than Naive Bayes.\n",
        "\n",
        "Count Vectorizer also shown the higher value of recall, precission , F1 score than TF-IDF vectorizer**\n",
        "\n",
        "**So, we can use the naive bayes model and Count Vectorizer to test the new data.**"
      ]
    }
  ]
}