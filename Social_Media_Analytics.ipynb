{
  "nbformat": 4,
  "nbformat_minor": 0,
  "metadata": {
    "colab": {
      "name": "Social Media Analytics.ipynb",
      "provenance": []
    },
    "kernelspec": {
      "name": "python3",
      "display_name": "Python 3"
    }
  },
  "cells": [
    {
      "cell_type": "code",
      "metadata": {
        "id": "mmg2t20Yd5wP",
        "colab_type": "code",
        "colab": {
          "base_uri": "https://localhost:8080/",
          "height": 119
        },
        "outputId": "fa6c7e5b-1db8-4655-f21c-2775bc1d8ea1"
      },
      "source": [
        "import pandas as pd \n",
        "import numpy as np\n",
        "\n",
        "#Authentication module. for documentation  (http://docs.tweepy.org)\n",
        "import tweepy as tp\n",
        "\n",
        "#import nltk module \n",
        "import nltk\n",
        "nltk.download('punkt')\n",
        "nltk.download('stopwords')\n",
        "nltk.download('wordnet')\n",
        "from nltk.corpus import stopwords\n",
        "from nltk.stem import PorterStemmer\n",
        "\n",
        "\n",
        "#import reguler expression \n",
        "import re\n",
        "\n",
        "#import textblob \n",
        "from textblob import TextBlob\n",
        "\n",
        "#visualization \n",
        "import matplotlib.pyplot as plt\n",
        "import seaborn as sns \n",
        "%matplotlib inline \n",
        "\n",
        "from wordcloud import WordCloud, STOPWORDS"
      ],
      "execution_count": 65,
      "outputs": [
        {
          "output_type": "stream",
          "text": [
            "[nltk_data] Downloading package punkt to /root/nltk_data...\n",
            "[nltk_data]   Package punkt is already up-to-date!\n",
            "[nltk_data] Downloading package stopwords to /root/nltk_data...\n",
            "[nltk_data]   Package stopwords is already up-to-date!\n",
            "[nltk_data] Downloading package wordnet to /root/nltk_data...\n",
            "[nltk_data]   Package wordnet is already up-to-date!\n"
          ],
          "name": "stdout"
        }
      ]
    },
    {
      "cell_type": "markdown",
      "metadata": {
        "id": "TSCpRyxYpMzb",
        "colab_type": "text"
      },
      "source": [
        "## Data Description"
      ]
    },
    {
      "cell_type": "code",
      "metadata": {
        "id": "1jE5x1WxeBcq",
        "colab_type": "code",
        "colab": {
          "base_uri": "https://localhost:8080/",
          "height": 400
        },
        "outputId": "703cda60-a650-4685-d283-87ffbf59e09a"
      },
      "source": [
        "df = pd.read_csv('tweets.csv')\n",
        "df.head(3)"
      ],
      "execution_count": 66,
      "outputs": [
        {
          "output_type": "execute_result",
          "data": {
            "text/html": [
              "<div>\n",
              "<style scoped>\n",
              "    .dataframe tbody tr th:only-of-type {\n",
              "        vertical-align: middle;\n",
              "    }\n",
              "\n",
              "    .dataframe tbody tr th {\n",
              "        vertical-align: top;\n",
              "    }\n",
              "\n",
              "    .dataframe thead th {\n",
              "        text-align: right;\n",
              "    }\n",
              "</style>\n",
              "<table border=\"1\" class=\"dataframe\">\n",
              "  <thead>\n",
              "    <tr style=\"text-align: right;\">\n",
              "      <th></th>\n",
              "      <th>tweet_id</th>\n",
              "      <th>airline_sentiment</th>\n",
              "      <th>airline_sentiment_confidence</th>\n",
              "      <th>negativereason</th>\n",
              "      <th>negativereason_confidence</th>\n",
              "      <th>airline</th>\n",
              "      <th>airline_sentiment_gold</th>\n",
              "      <th>name</th>\n",
              "      <th>negativereason_gold</th>\n",
              "      <th>retweet_count</th>\n",
              "      <th>text</th>\n",
              "      <th>tweet_coord</th>\n",
              "      <th>tweet_created</th>\n",
              "      <th>tweet_location</th>\n",
              "      <th>user_timezone</th>\n",
              "    </tr>\n",
              "  </thead>\n",
              "  <tbody>\n",
              "    <tr>\n",
              "      <th>0</th>\n",
              "      <td>567588278875213824</td>\n",
              "      <td>neutral</td>\n",
              "      <td>1.0</td>\n",
              "      <td>NaN</td>\n",
              "      <td>NaN</td>\n",
              "      <td>Delta</td>\n",
              "      <td>NaN</td>\n",
              "      <td>JetBlueNews</td>\n",
              "      <td>NaN</td>\n",
              "      <td>0</td>\n",
              "      <td>@JetBlue's new CEO seeks the right balance to ...</td>\n",
              "      <td>NaN</td>\n",
              "      <td>2015-02-16 23:36:05 -0800</td>\n",
              "      <td>USA</td>\n",
              "      <td>Sydney</td>\n",
              "    </tr>\n",
              "    <tr>\n",
              "      <th>1</th>\n",
              "      <td>567590027375702016</td>\n",
              "      <td>negative</td>\n",
              "      <td>1.0</td>\n",
              "      <td>Can't Tell</td>\n",
              "      <td>0.6503</td>\n",
              "      <td>Delta</td>\n",
              "      <td>NaN</td>\n",
              "      <td>nesi_1992</td>\n",
              "      <td>NaN</td>\n",
              "      <td>0</td>\n",
              "      <td>@JetBlue is REALLY getting on my nerves !! 😡😡 ...</td>\n",
              "      <td>NaN</td>\n",
              "      <td>2015-02-16 23:43:02 -0800</td>\n",
              "      <td>undecided</td>\n",
              "      <td>Pacific Time (US &amp; Canada)</td>\n",
              "    </tr>\n",
              "    <tr>\n",
              "      <th>2</th>\n",
              "      <td>567591480085463040</td>\n",
              "      <td>negative</td>\n",
              "      <td>1.0</td>\n",
              "      <td>Late Flight</td>\n",
              "      <td>0.3460</td>\n",
              "      <td>United</td>\n",
              "      <td>NaN</td>\n",
              "      <td>CPoutloud</td>\n",
              "      <td>NaN</td>\n",
              "      <td>0</td>\n",
              "      <td>@united yes. We waited in line for almost an h...</td>\n",
              "      <td>NaN</td>\n",
              "      <td>2015-02-16 23:48:48 -0800</td>\n",
              "      <td>Washington, DC</td>\n",
              "      <td>NaN</td>\n",
              "    </tr>\n",
              "  </tbody>\n",
              "</table>\n",
              "</div>"
            ],
            "text/plain": [
              "             tweet_id  ...               user_timezone\n",
              "0  567588278875213824  ...                      Sydney\n",
              "1  567590027375702016  ...  Pacific Time (US & Canada)\n",
              "2  567591480085463040  ...                         NaN\n",
              "\n",
              "[3 rows x 15 columns]"
            ]
          },
          "metadata": {
            "tags": []
          },
          "execution_count": 66
        }
      ]
    },
    {
      "cell_type": "code",
      "metadata": {
        "id": "hPIDT_x5eQgx",
        "colab_type": "code",
        "colab": {
          "base_uri": "https://localhost:8080/",
          "height": 34
        },
        "outputId": "26e7fce5-f5dd-4a83-81dc-98e71b5570a0"
      },
      "source": [
        "df.shape"
      ],
      "execution_count": 67,
      "outputs": [
        {
          "output_type": "execute_result",
          "data": {
            "text/plain": [
              "(14485, 15)"
            ]
          },
          "metadata": {
            "tags": []
          },
          "execution_count": 67
        }
      ]
    },
    {
      "cell_type": "code",
      "metadata": {
        "id": "Y1X-naeUe0q6",
        "colab_type": "code",
        "colab": {
          "base_uri": "https://localhost:8080/",
          "height": 357
        },
        "outputId": "d783d717-42b3-409e-e5f3-16b5c878871a"
      },
      "source": [
        "df.info()"
      ],
      "execution_count": 68,
      "outputs": [
        {
          "output_type": "stream",
          "text": [
            "<class 'pandas.core.frame.DataFrame'>\n",
            "RangeIndex: 14485 entries, 0 to 14484\n",
            "Data columns (total 15 columns):\n",
            "tweet_id                        14485 non-null int64\n",
            "airline_sentiment               14485 non-null object\n",
            "airline_sentiment_confidence    14485 non-null float64\n",
            "negativereason                  9082 non-null object\n",
            "negativereason_confidence       10416 non-null float64\n",
            "airline                         14485 non-null object\n",
            "airline_sentiment_gold          40 non-null object\n",
            "name                            14485 non-null object\n",
            "negativereason_gold             32 non-null object\n",
            "retweet_count                   14485 non-null int64\n",
            "text                            14485 non-null object\n",
            "tweet_coord                     1007 non-null object\n",
            "tweet_created                   14485 non-null object\n",
            "tweet_location                  9798 non-null object\n",
            "user_timezone                   9710 non-null object\n",
            "dtypes: float64(2), int64(2), object(11)\n",
            "memory usage: 1.7+ MB\n"
          ],
          "name": "stdout"
        }
      ]
    },
    {
      "cell_type": "markdown",
      "metadata": {
        "id": "3uLvLcmrpSsh",
        "colab_type": "text"
      },
      "source": [
        "The dataset is contain of 14.485 records and 15 features like \n",
        "- **tweet_id** : ID of twitter users \n",
        "- **airline_sentiment** : sentiment analysis of tweets\n",
        "- **airline_sentiment_confidence** : confidence interval of sentiment analysis of tweets\n",
        "- **negativereason** : a phrase that make a tweet become negative value\n",
        "- **negativereason_confidence** : confidence interval of negativereason feature\n",
        "- **airline**: name of airline company\n",
        "- **name**: type of airline\n",
        "- **retweet count** : sum of retweet for every tweets\n",
        "- **text** : tweets\n",
        "\n",
        "We want to drop **airline_sentiment_gold , negativereason_gold, tweet_coord, tweet_created, tweet_location, user_timezone.** feature from the dataset.\n",
        "\n"
      ]
    },
    {
      "cell_type": "code",
      "metadata": {
        "id": "XtoSXLT5veB6",
        "colab_type": "code",
        "colab": {}
      },
      "source": [
        "df=df.drop(columns=['airline_sentiment_gold', 'negativereason_gold', 'tweet_coord', 'tweet_created', 'tweet_location','user_timezone'])"
      ],
      "execution_count": 0,
      "outputs": []
    },
    {
      "cell_type": "markdown",
      "metadata": {
        "id": "x5mmVKP7wi4y",
        "colab_type": "text"
      },
      "source": [
        "Next, it needed to drop the duplicate tweets to make a clean data tweets"
      ]
    },
    {
      "cell_type": "code",
      "metadata": {
        "id": "BKtsDVS8e3dl",
        "colab_type": "code",
        "colab": {}
      },
      "source": [
        "#dropo duplicate tweet \n",
        "g_unique = set()\n",
        "for item in df['text']:\n",
        "        g_unique.add(item) # ensures the element will only be copied if not already in the set\n",
        "tweet = []\n",
        "for item in g_unique:\n",
        "    tweet.append(item)\n",
        "    dataframe = pd.DataFrame(tweet,columns = ['text'])"
      ],
      "execution_count": 0,
      "outputs": []
    },
    {
      "cell_type": "code",
      "metadata": {
        "id": "0-dwNX-2fDcd",
        "colab_type": "code",
        "colab": {
          "base_uri": "https://localhost:8080/",
          "height": 204
        },
        "outputId": "341dd1e1-5cd2-446d-c943-a22e34bc4fdb"
      },
      "source": [
        "dataframe.head()"
      ],
      "execution_count": 71,
      "outputs": [
        {
          "output_type": "execute_result",
          "data": {
            "text/html": [
              "<div>\n",
              "<style scoped>\n",
              "    .dataframe tbody tr th:only-of-type {\n",
              "        vertical-align: middle;\n",
              "    }\n",
              "\n",
              "    .dataframe tbody tr th {\n",
              "        vertical-align: top;\n",
              "    }\n",
              "\n",
              "    .dataframe thead th {\n",
              "        text-align: right;\n",
              "    }\n",
              "</style>\n",
              "<table border=\"1\" class=\"dataframe\">\n",
              "  <thead>\n",
              "    <tr style=\"text-align: right;\">\n",
              "      <th></th>\n",
              "      <th>text</th>\n",
              "    </tr>\n",
              "  </thead>\n",
              "  <tbody>\n",
              "    <tr>\n",
              "      <th>0</th>\n",
              "      <td>@JetBlue I'm also a mosaic customer and fly je...</td>\n",
              "    </tr>\n",
              "    <tr>\n",
              "      <th>1</th>\n",
              "      <td>@SouthwestAir any official word whether flight...</td>\n",
              "    </tr>\n",
              "    <tr>\n",
              "      <th>2</th>\n",
              "      <td>What can I say other than when it comes to my ...</td>\n",
              "    </tr>\n",
              "    <tr>\n",
              "      <th>3</th>\n",
              "      <td>@VirginAmerica Thank you!!</td>\n",
              "    </tr>\n",
              "    <tr>\n",
              "      <th>4</th>\n",
              "      <td>@JetBlue got txt  40min after sched dpt, sayin...</td>\n",
              "    </tr>\n",
              "  </tbody>\n",
              "</table>\n",
              "</div>"
            ],
            "text/plain": [
              "                                                text\n",
              "0  @JetBlue I'm also a mosaic customer and fly je...\n",
              "1  @SouthwestAir any official word whether flight...\n",
              "2  What can I say other than when it comes to my ...\n",
              "3                         @VirginAmerica Thank you!!\n",
              "4  @JetBlue got txt  40min after sched dpt, sayin..."
            ]
          },
          "metadata": {
            "tags": []
          },
          "execution_count": 71
        }
      ]
    },
    {
      "cell_type": "markdown",
      "metadata": {
        "id": "mdhYy3HDxQXq",
        "colab_type": "text"
      },
      "source": [
        "### Preprocessing Data\n",
        "\n",
        "Data tweet need to do the preprocessing by many technique preprocess data."
      ]
    },
    {
      "cell_type": "markdown",
      "metadata": {
        "id": "g6vAzRwdxoIj",
        "colab_type": "text"
      },
      "source": [
        "#### Lower casing"
      ]
    },
    {
      "cell_type": "code",
      "metadata": {
        "id": "8huc3ajekCfd",
        "colab_type": "code",
        "colab": {
          "base_uri": "https://localhost:8080/",
          "height": 119
        },
        "outputId": "01188e30-2228-4e4c-b9ce-54fc376a25e0"
      },
      "source": [
        "dataframe['text'] = dataframe['text'].apply(lambda x: \" \".join(x.lower() for x in x.split()))\n",
        "dataframe['text'].head()"
      ],
      "execution_count": 72,
      "outputs": [
        {
          "output_type": "execute_result",
          "data": {
            "text/plain": [
              "0    @jetblue i'm also a mosaic customer and fly je...\n",
              "1    @southwestair any official word whether flight...\n",
              "2    what can i say other than when it comes to my ...\n",
              "3                           @virginamerica thank you!!\n",
              "4    @jetblue got txt 40min after sched dpt, saying...\n",
              "Name: text, dtype: object"
            ]
          },
          "metadata": {
            "tags": []
          },
          "execution_count": 72
        }
      ]
    },
    {
      "cell_type": "markdown",
      "metadata": {
        "id": "k4-_M_R6x1aP",
        "colab_type": "text"
      },
      "source": [
        "#### Punctuation Removal\n",
        "This preprocessing data want to remove the punctuation character."
      ]
    },
    {
      "cell_type": "code",
      "metadata": {
        "id": "j6Cagiwcksr3",
        "colab_type": "code",
        "colab": {
          "base_uri": "https://localhost:8080/",
          "height": 204
        },
        "outputId": "c981c4ba-14c7-4364-c857-9af7a12d5615"
      },
      "source": [
        "dataframe['text'] = dataframe['text'].str.replace('[^\\w\\s]','')\n",
        "dataframe.head()"
      ],
      "execution_count": 73,
      "outputs": [
        {
          "output_type": "execute_result",
          "data": {
            "text/html": [
              "<div>\n",
              "<style scoped>\n",
              "    .dataframe tbody tr th:only-of-type {\n",
              "        vertical-align: middle;\n",
              "    }\n",
              "\n",
              "    .dataframe tbody tr th {\n",
              "        vertical-align: top;\n",
              "    }\n",
              "\n",
              "    .dataframe thead th {\n",
              "        text-align: right;\n",
              "    }\n",
              "</style>\n",
              "<table border=\"1\" class=\"dataframe\">\n",
              "  <thead>\n",
              "    <tr style=\"text-align: right;\">\n",
              "      <th></th>\n",
              "      <th>text</th>\n",
              "    </tr>\n",
              "  </thead>\n",
              "  <tbody>\n",
              "    <tr>\n",
              "      <th>0</th>\n",
              "      <td>jetblue im also a mosaic customer and fly jet ...</td>\n",
              "    </tr>\n",
              "    <tr>\n",
              "      <th>1</th>\n",
              "      <td>southwestair any official word whether flight ...</td>\n",
              "    </tr>\n",
              "    <tr>\n",
              "      <th>2</th>\n",
              "      <td>what can i say other than when it comes to my ...</td>\n",
              "    </tr>\n",
              "    <tr>\n",
              "      <th>3</th>\n",
              "      <td>virginamerica thank you</td>\n",
              "    </tr>\n",
              "    <tr>\n",
              "      <th>4</th>\n",
              "      <td>jetblue got txt 40min after sched dpt saying p...</td>\n",
              "    </tr>\n",
              "  </tbody>\n",
              "</table>\n",
              "</div>"
            ],
            "text/plain": [
              "                                                text\n",
              "0  jetblue im also a mosaic customer and fly jet ...\n",
              "1  southwestair any official word whether flight ...\n",
              "2  what can i say other than when it comes to my ...\n",
              "3                            virginamerica thank you\n",
              "4  jetblue got txt 40min after sched dpt saying p..."
            ]
          },
          "metadata": {
            "tags": []
          },
          "execution_count": 73
        }
      ]
    },
    {
      "cell_type": "markdown",
      "metadata": {
        "id": "F-JIRwH0zJ5P",
        "colab_type": "text"
      },
      "source": [
        "#### Stopword Removal\n",
        "This preprocessing data want to remove the stopword in the tweets."
      ]
    },
    {
      "cell_type": "code",
      "metadata": {
        "id": "OQdhpxUtkxNz",
        "colab_type": "code",
        "colab": {
          "base_uri": "https://localhost:8080/",
          "height": 204
        },
        "outputId": "11d6fb53-d895-49ab-e906-fce951abd985"
      },
      "source": [
        "stop = stopwords.words('english')\n",
        "dataframe['text'] = dataframe['text'].apply(lambda x: \" \".join(x for x in x.split() if x not in stop))\n",
        "dataframe['text'].head(10)"
      ],
      "execution_count": 74,
      "outputs": [
        {
          "output_type": "execute_result",
          "data": {
            "text/plain": [
              "0    jetblue im also mosaic customer fly jet blue alot\n",
              "1    southwestair official word whether flight 3403...\n",
              "2    say comes brandloveaffair w jetblue ur souland...\n",
              "3                                  virginamerica thank\n",
              "4    jetblue got txt 40min sched dpt saying plane a...\n",
              "5    united thanks able app still customer service ...\n",
              "6    southwestair save mile visit family 2015 impac...\n",
              "7    united really culture problem everyone tried w...\n",
              "8                americanair lost basket ballbag plane\n",
              "9    usairways thanks getting back called number ea...\n",
              "Name: text, dtype: object"
            ]
          },
          "metadata": {
            "tags": []
          },
          "execution_count": 74
        }
      ]
    },
    {
      "cell_type": "markdown",
      "metadata": {
        "id": "NbJXNupZ0fci",
        "colab_type": "text"
      },
      "source": [
        "#### Frequents Word Removal\n",
        "Remove the word that exist in all tweets."
      ]
    },
    {
      "cell_type": "code",
      "metadata": {
        "id": "VFhcUOuvk0Jq",
        "colab_type": "code",
        "colab": {
          "base_uri": "https://localhost:8080/",
          "height": 204
        },
        "outputId": "618cca99-1236-4876-c02a-a9ba7eb3dbdd"
      },
      "source": [
        "freq = pd.Series(' '.join(dataframe['text']).split()).value_counts()[:10]\n",
        "freq"
      ],
      "execution_count": 75,
      "outputs": [
        {
          "output_type": "execute_result",
          "data": {
            "text/plain": [
              "united          4125\n",
              "flight          3823\n",
              "usairways       3036\n",
              "americanair     2791\n",
              "southwestair    2440\n",
              "jetblue         2349\n",
              "get             1326\n",
              "cancelled       1034\n",
              "thanks          1030\n",
              "service          948\n",
              "dtype: int64"
            ]
          },
          "metadata": {
            "tags": []
          },
          "execution_count": 75
        }
      ]
    },
    {
      "cell_type": "code",
      "metadata": {
        "id": "_qQ1GTxxlDN9",
        "colab_type": "code",
        "colab": {
          "base_uri": "https://localhost:8080/",
          "height": 119
        },
        "outputId": "19e7d658-779f-49b9-8b1a-2a18086658e2"
      },
      "source": [
        "freq = list(freq.index)\n",
        "dataframe['text'] = dataframe['text'].apply(lambda x: \" \".join(x for x in x.split() if x not in freq))\n",
        "dataframe['text'].head()"
      ],
      "execution_count": 76,
      "outputs": [
        {
          "output_type": "execute_result",
          "data": {
            "text/plain": [
              "0            im also mosaic customer fly jet blue alot\n",
              "1    official word whether 3403 bwi manchester flig...\n",
              "2    say comes brandloveaffair w ur soulandinspirat...\n",
              "3                                  virginamerica thank\n",
              "4    got txt 40min sched dpt saying plane arrived j...\n",
              "Name: text, dtype: object"
            ]
          },
          "metadata": {
            "tags": []
          },
          "execution_count": 76
        }
      ]
    },
    {
      "cell_type": "markdown",
      "metadata": {
        "id": "hTknM4WX05pJ",
        "colab_type": "text"
      },
      "source": [
        "#### Rare Words Removal\n",
        "Remove the words that indicate as a strange word."
      ]
    },
    {
      "cell_type": "code",
      "metadata": {
        "id": "MR1mJl6flGYe",
        "colab_type": "code",
        "colab": {
          "base_uri": "https://localhost:8080/",
          "height": 204
        },
        "outputId": "931e3bfa-04fe-4ca6-d8e7-d53db1ee9bc5"
      },
      "source": [
        "rare_word = pd.Series(' '.join(dataframe['text']).split()).value_counts()[-10:]\n",
        "rare_word"
      ],
      "execution_count": 77,
      "outputs": [
        {
          "output_type": "execute_result",
          "data": {
            "text/plain": [
              "nycgtpghwish      1\n",
              "untrained         1\n",
              "organizational    1\n",
              "xm                1\n",
              "jeffsmisek        1\n",
              "ua3417            1\n",
              "4011              1\n",
              "eternal           1\n",
              "phxphl            1\n",
              "programming       1\n",
              "dtype: int64"
            ]
          },
          "metadata": {
            "tags": []
          },
          "execution_count": 77
        }
      ]
    },
    {
      "cell_type": "code",
      "metadata": {
        "id": "EcfJ5HOBlLSr",
        "colab_type": "code",
        "colab": {
          "base_uri": "https://localhost:8080/",
          "height": 119
        },
        "outputId": "8d8d0e3d-5772-4f26-d267-ee8f5f851f01"
      },
      "source": [
        "rare_word = list(rare_word.index)\n",
        "dataframe['text'] = dataframe['text'].apply(lambda x: \" \".join(x for x in x.split() if x not in freq))\n",
        "dataframe['text'].head()"
      ],
      "execution_count": 78,
      "outputs": [
        {
          "output_type": "execute_result",
          "data": {
            "text/plain": [
              "0            im also mosaic customer fly jet blue alot\n",
              "1    official word whether 3403 bwi manchester flig...\n",
              "2    say comes brandloveaffair w ur soulandinspirat...\n",
              "3                                  virginamerica thank\n",
              "4    got txt 40min sched dpt saying plane arrived j...\n",
              "Name: text, dtype: object"
            ]
          },
          "metadata": {
            "tags": []
          },
          "execution_count": 78
        }
      ]
    },
    {
      "cell_type": "markdown",
      "metadata": {
        "id": "91R3oo0q1oo1",
        "colab_type": "text"
      },
      "source": [
        "#### Spelling Correction \n",
        "repair the typo word"
      ]
    },
    {
      "cell_type": "code",
      "metadata": {
        "id": "41lEGtQnlN1n",
        "colab_type": "code",
        "colab": {
          "base_uri": "https://localhost:8080/",
          "height": 119
        },
        "outputId": "9b8af2ae-0b8c-4d87-dde4-f18ea7c752d2"
      },
      "source": [
        "#Spelling correction\n",
        "dataframe['text'][:5].apply(lambda x: str(TextBlob(x).correct()))"
      ],
      "execution_count": 79,
      "outputs": [
        {
          "output_type": "execute_result",
          "data": {
            "text/plain": [
              "0            in also mosaic customer fly jet blue clot\n",
              "1    official word whether 3403 i manchester lighte...\n",
              "2    say comes brandloveaffair w or soulandinspirat...\n",
              "3                                  virginamerica thank\n",
              "4    got txt min shed apt saying plane arrived of l...\n",
              "Name: text, dtype: object"
            ]
          },
          "metadata": {
            "tags": []
          },
          "execution_count": 79
        }
      ]
    },
    {
      "cell_type": "markdown",
      "metadata": {
        "id": "VrlKq0ou18cS",
        "colab_type": "text"
      },
      "source": [
        "#### Tokenization\n",
        "split word in tweets"
      ]
    },
    {
      "cell_type": "code",
      "metadata": {
        "id": "SaPd0kfllTDF",
        "colab_type": "code",
        "colab": {
          "base_uri": "https://localhost:8080/",
          "height": 54
        },
        "outputId": "78d54c85-78a8-43c4-9b07-968067e73674"
      },
      "source": [
        "TextBlob(dataframe['text'][1]).words"
      ],
      "execution_count": 80,
      "outputs": [
        {
          "output_type": "execute_result",
          "data": {
            "text/plain": [
              "WordList(['official', 'word', 'whether', '3403', 'bwi', 'manchester', 'flightled', 'ive', 'got', '8hr', 'drive', 'snow'])"
            ]
          },
          "metadata": {
            "tags": []
          },
          "execution_count": 80
        }
      ]
    },
    {
      "cell_type": "markdown",
      "metadata": {
        "id": "UpYjVLYG2KqO",
        "colab_type": "text"
      },
      "source": [
        "#### Stemming\n",
        "Make the word to the original word"
      ]
    },
    {
      "cell_type": "code",
      "metadata": {
        "id": "pai9sWrxlXaX",
        "colab_type": "code",
        "colab": {}
      },
      "source": [
        "st = PorterStemmer()\n",
        "dataframe['text'] = dataframe['text'][:].apply(lambda x: \" \".join([st.stem(word) for word in x.split()]))"
      ],
      "execution_count": 0,
      "outputs": []
    },
    {
      "cell_type": "markdown",
      "metadata": {
        "id": "RBLkSTer2Nvi",
        "colab_type": "text"
      },
      "source": [
        "#### Lematization\n",
        "Make the word to the original word based in the dictionary."
      ]
    },
    {
      "cell_type": "code",
      "metadata": {
        "id": "xNSpluMAlviC",
        "colab_type": "code",
        "colab": {
          "base_uri": "https://localhost:8080/",
          "height": 119
        },
        "outputId": "2f8a4233-899a-434e-e7bf-b790d88aed22"
      },
      "source": [
        "from textblob import Word\n",
        "dataframe['text'] = dataframe['text'].apply(lambda x: \" \".join([Word(word).lemmatize() for word in x.split()]))\n",
        "dataframe['text'].head()"
      ],
      "execution_count": 82,
      "outputs": [
        {
          "output_type": "execute_result",
          "data": {
            "text/plain": [
              "0              im also mosaic custom fli jet blue alot\n",
              "1    offici word whether 3403 bwi manchest flightl ...\n",
              "2    say come brandloveaffair w ur soulandinspir ht...\n",
              "3                                  virginamerica thank\n",
              "4    got txt 40min sched dpt say plane arriv jfk la...\n",
              "Name: text, dtype: object"
            ]
          },
          "metadata": {
            "tags": []
          },
          "execution_count": 82
        }
      ]
    },
    {
      "cell_type": "markdown",
      "metadata": {
        "id": "baR61H3G5ynj",
        "colab_type": "text"
      },
      "source": [
        "## WordCloud Visualization"
      ]
    },
    {
      "cell_type": "markdown",
      "metadata": {
        "id": "6dWeJY1__ZbJ",
        "colab_type": "text"
      },
      "source": [
        "### Wordcloud Tweets"
      ]
    },
    {
      "cell_type": "code",
      "metadata": {
        "id": "djOz8XwcoLrc",
        "colab_type": "code",
        "colab": {}
      },
      "source": [
        "wordc = \"\".join(dataframe.text.values)"
      ],
      "execution_count": 0,
      "outputs": []
    },
    {
      "cell_type": "code",
      "metadata": {
        "id": "X2lURdFC3iK0",
        "colab_type": "code",
        "colab": {}
      },
      "source": [
        "#make a wordcloud \n",
        "def create_word_cloud(string):\n",
        "    cloud = WordCloud(background_color = \"white\", max_words = 200, stopwords = set(STOPWORDS)).generate(string)\n",
        "    plt.imshow(cloud, interpolation='bilinear')\n",
        "    plt.axis('off')\n",
        "    plt.show()"
      ],
      "execution_count": 0,
      "outputs": []
    },
    {
      "cell_type": "code",
      "metadata": {
        "id": "AXBanMuN3maq",
        "colab_type": "code",
        "colab": {
          "base_uri": "https://localhost:8080/",
          "height": 219
        },
        "outputId": "c6917477-9c7f-4882-e3dc-cfd3685968a3"
      },
      "source": [
        "create_word_cloud(wordc)"
      ],
      "execution_count": 85,
      "outputs": [
        {
          "output_type": "display_data",
          "data": {
            "image/png": "[encoded data removed]",
            "text/plain": [
              "<Figure size 432x288 with 1 Axes>"
            ]
          },
          "metadata": {
            "tags": []
          }
        }
      ]
    },
    {
      "cell_type": "markdown",
      "metadata": {
        "id": "gGyDfHqI_qgz",
        "colab_type": "text"
      },
      "source": [
        "based on the word cloud, we can see that word that have a high frequency in the tweets dataset is **flight, plane, delay, help, time, amp gate, bag, custom**, etc. Because that words have the bigger size in the wordcloud."
      ]
    },
    {
      "cell_type": "markdown",
      "metadata": {
        "id": "38tRCkE3-Ek7",
        "colab_type": "text"
      },
      "source": [
        "### WordCloud Negative Reason of Negative Sentiment"
      ]
    },
    {
      "cell_type": "code",
      "metadata": {
        "id": "q2LdkUig-GXy",
        "colab_type": "code",
        "colab": {}
      },
      "source": [
        "#positive = df.loc[df['airline_sentiment'] == \"positive\"]\n",
        "negative  = df.loc[df['airline_sentiment'] == \"negative\"]\n",
        "#neutral  = df.loc[df['airline_sentiment'] == \"neutral\"]"
      ],
      "execution_count": 0,
      "outputs": []
    },
    {
      "cell_type": "code",
      "metadata": {
        "id": "jm_ZDefC-_Pc",
        "colab_type": "code",
        "colab": {}
      },
      "source": [
        "negative = \"\".join(negative.negativereason.values)"
      ],
      "execution_count": 0,
      "outputs": []
    },
    {
      "cell_type": "code",
      "metadata": {
        "id": "bbD-OCBv_Q0N",
        "colab_type": "code",
        "colab": {}
      },
      "source": [
        "#make a wordcloud \n",
        "def create_word_cloud(string):\n",
        "    cloud = WordCloud(background_color = \"white\", max_words = 200, stopwords = set(STOPWORDS)).generate(string)\n",
        "    plt.imshow(cloud, interpolation='bilinear')\n",
        "    plt.axis('off')\n",
        "    plt.show()"
      ],
      "execution_count": 0,
      "outputs": []
    },
    {
      "cell_type": "code",
      "metadata": {
        "id": "3BFes6Hp_S8c",
        "colab_type": "code",
        "colab": {
          "base_uri": "https://localhost:8080/",
          "height": 219
        },
        "outputId": "89f7798b-274f-4016-c4b2-6cc6b5b048b3"
      },
      "source": [
        "create_word_cloud(negative)"
      ],
      "execution_count": 103,
      "outputs": [
        {
          "output_type": "display_data",
          "data": {
            "image/png": "[encoded data removed]",
            "text/plain": [
              "<Figure size 432x288 with 1 Axes>"
            ]
          },
          "metadata": {
            "tags": []
          }
        }
      ]
    },
    {
      "cell_type": "markdown",
      "metadata": {
        "id": "vxnW0tAMAo8L",
        "colab_type": "text"
      },
      "source": [
        "The most negative reason that mostly appear in the tweet dataset is\n",
        "- FlighCustomer Service\n",
        "- Service IssueCustomer\n",
        "- IssueCustomer Service\n",
        "- Service IssueLate\n",
        "- Service IssueCancelled\n",
        "\n",
        "It means that too much tweet that speak about that reason the tweet is categorized by customers."
      ]
    },
    {
      "cell_type": "markdown",
      "metadata": {
        "id": "i3XgDyfF7OWu",
        "colab_type": "text"
      },
      "source": [
        "## Exploratory Data Analysis"
      ]
    },
    {
      "cell_type": "markdown",
      "metadata": {
        "id": "gixlLfaA7T1I",
        "colab_type": "text"
      },
      "source": [
        "### Sentiment Analysis Visualization"
      ]
    },
    {
      "cell_type": "code",
      "metadata": {
        "id": "W6JdMZYVhwjl",
        "colab_type": "code",
        "colab": {
          "base_uri": "https://localhost:8080/",
          "height": 204
        },
        "outputId": "d2b6df06-d378-4ce2-fe7e-c3b1ec5113fd"
      },
      "source": [
        "sentiment =df [['airline_sentiment']]\n",
        "sentiment.head()"
      ],
      "execution_count": 86,
      "outputs": [
        {
          "output_type": "execute_result",
          "data": {
            "text/html": [
              "<div>\n",
              "<style scoped>\n",
              "    .dataframe tbody tr th:only-of-type {\n",
              "        vertical-align: middle;\n",
              "    }\n",
              "\n",
              "    .dataframe tbody tr th {\n",
              "        vertical-align: top;\n",
              "    }\n",
              "\n",
              "    .dataframe thead th {\n",
              "        text-align: right;\n",
              "    }\n",
              "</style>\n",
              "<table border=\"1\" class=\"dataframe\">\n",
              "  <thead>\n",
              "    <tr style=\"text-align: right;\">\n",
              "      <th></th>\n",
              "      <th>airline_sentiment</th>\n",
              "    </tr>\n",
              "  </thead>\n",
              "  <tbody>\n",
              "    <tr>\n",
              "      <th>0</th>\n",
              "      <td>neutral</td>\n",
              "    </tr>\n",
              "    <tr>\n",
              "      <th>1</th>\n",
              "      <td>negative</td>\n",
              "    </tr>\n",
              "    <tr>\n",
              "      <th>2</th>\n",
              "      <td>negative</td>\n",
              "    </tr>\n",
              "    <tr>\n",
              "      <th>3</th>\n",
              "      <td>negative</td>\n",
              "    </tr>\n",
              "    <tr>\n",
              "      <th>4</th>\n",
              "      <td>negative</td>\n",
              "    </tr>\n",
              "  </tbody>\n",
              "</table>\n",
              "</div>"
            ],
            "text/plain": [
              "  airline_sentiment\n",
              "0           neutral\n",
              "1          negative\n",
              "2          negative\n",
              "3          negative\n",
              "4          negative"
            ]
          },
          "metadata": {
            "tags": []
          },
          "execution_count": 86
        }
      ]
    },
    {
      "cell_type": "code",
      "metadata": {
        "id": "7o7eWeEniWXd",
        "colab_type": "code",
        "colab": {
          "base_uri": "https://localhost:8080/",
          "height": 85
        },
        "outputId": "7b3e90d4-f243-4107-eed2-d74d35c543c3"
      },
      "source": [
        "cs = sentiment['airline_sentiment'].value_counts()\n",
        "cs"
      ],
      "execution_count": 87,
      "outputs": [
        {
          "output_type": "execute_result",
          "data": {
            "text/plain": [
              "negative    9082\n",
              "neutral     3069\n",
              "positive    2334\n",
              "Name: airline_sentiment, dtype: int64"
            ]
          },
          "metadata": {
            "tags": []
          },
          "execution_count": 87
        }
      ]
    },
    {
      "cell_type": "code",
      "metadata": {
        "id": "Obes3xj2jlWv",
        "colab_type": "code",
        "colab": {
          "base_uri": "https://localhost:8080/",
          "height": 327
        },
        "outputId": "8033247f-545a-4bad-d299-7266141dde15"
      },
      "source": [
        "colors = ['darkorange', 'sandybrown', 'darksalmon']\n",
        "explode = (0, 0.1, 0.3)\n",
        "\n",
        "plt.figure(figsize=(5,5))\n",
        "plt.pie(cs, labels=cs.index, autopct='%.2f',colors=colors,explode=explode)\n",
        "plt.show"
      ],
      "execution_count": 88,
      "outputs": [
        {
          "output_type": "execute_result",
          "data": {
            "text/plain": [
              "<function matplotlib.pyplot.show>"
            ]
          },
          "metadata": {
            "tags": []
          },
          "execution_count": 88
        },
        {
          "output_type": "display_data",
          "data": {
            "image/png": "[encoded data removed]",
            "text/plain": [
              "<Figure size 360x360 with 1 Axes>"
            ]
          },
          "metadata": {
            "tags": []
          }
        }
      ]
    },
    {
      "cell_type": "markdown",
      "metadata": {
        "id": "P5opAZ4IBYYF",
        "colab_type": "text"
      },
      "source": [
        "Based on the dataset, negative tweets is the higher value with 62,72% that means most of costumer airline make a tweet to share they dissapointed or a problem to tweets."
      ]
    },
    {
      "cell_type": "markdown",
      "metadata": {
        "id": "gW_8yBJz9KvC",
        "colab_type": "text"
      },
      "source": [
        "### Airline Company Visualization"
      ]
    },
    {
      "cell_type": "code",
      "metadata": {
        "id": "ECJh48_l7wxu",
        "colab_type": "code",
        "colab": {
          "base_uri": "https://localhost:8080/",
          "height": 204
        },
        "outputId": "5ae64ee6-9417-4457-c82b-ecdea77d6c01"
      },
      "source": [
        "airline =df [['airline']]\n",
        "airline.head()"
      ],
      "execution_count": 90,
      "outputs": [
        {
          "output_type": "execute_result",
          "data": {
            "text/html": [
              "<div>\n",
              "<style scoped>\n",
              "    .dataframe tbody tr th:only-of-type {\n",
              "        vertical-align: middle;\n",
              "    }\n",
              "\n",
              "    .dataframe tbody tr th {\n",
              "        vertical-align: top;\n",
              "    }\n",
              "\n",
              "    .dataframe thead th {\n",
              "        text-align: right;\n",
              "    }\n",
              "</style>\n",
              "<table border=\"1\" class=\"dataframe\">\n",
              "  <thead>\n",
              "    <tr style=\"text-align: right;\">\n",
              "      <th></th>\n",
              "      <th>airline</th>\n",
              "    </tr>\n",
              "  </thead>\n",
              "  <tbody>\n",
              "    <tr>\n",
              "      <th>0</th>\n",
              "      <td>Delta</td>\n",
              "    </tr>\n",
              "    <tr>\n",
              "      <th>1</th>\n",
              "      <td>Delta</td>\n",
              "    </tr>\n",
              "    <tr>\n",
              "      <th>2</th>\n",
              "      <td>United</td>\n",
              "    </tr>\n",
              "    <tr>\n",
              "      <th>3</th>\n",
              "      <td>United</td>\n",
              "    </tr>\n",
              "    <tr>\n",
              "      <th>4</th>\n",
              "      <td>Southwest</td>\n",
              "    </tr>\n",
              "  </tbody>\n",
              "</table>\n",
              "</div>"
            ],
            "text/plain": [
              "     airline\n",
              "0      Delta\n",
              "1      Delta\n",
              "2     United\n",
              "3     United\n",
              "4  Southwest"
            ]
          },
          "metadata": {
            "tags": []
          },
          "execution_count": 90
        }
      ]
    },
    {
      "cell_type": "code",
      "metadata": {
        "id": "myD96CsX7zcR",
        "colab_type": "code",
        "colab": {
          "base_uri": "https://localhost:8080/",
          "height": 136
        },
        "outputId": "a8c6c37d-ed9b-4e1a-c3ec-dfc4096eb67e"
      },
      "source": [
        "bca = airline['airline'].value_counts()\n",
        "bca"
      ],
      "execution_count": 91,
      "outputs": [
        {
          "output_type": "execute_result",
          "data": {
            "text/plain": [
              "United            3822\n",
              "US Airways        2913\n",
              "American          2604\n",
              "Southwest         2420\n",
              "Delta             2222\n",
              "Virgin America     504\n",
              "Name: airline, dtype: int64"
            ]
          },
          "metadata": {
            "tags": []
          },
          "execution_count": 91
        }
      ]
    },
    {
      "cell_type": "code",
      "metadata": {
        "id": "VVLnINPB8V_Z",
        "colab_type": "code",
        "colab": {
          "base_uri": "https://localhost:8080/",
          "height": 329
        },
        "outputId": "7453fffb-bda9-4d5b-aec5-2c167e271a29"
      },
      "source": [
        "f=plt.figure(figsize=(15,10))\n",
        "f.add_subplot(2,2,1)\n",
        "sns.countplot(airline['airline'], order=airline['airline'].value_counts().index)"
      ],
      "execution_count": 94,
      "outputs": [
        {
          "output_type": "execute_result",
          "data": {
            "text/plain": [
              "<matplotlib.axes._subplots.AxesSubplot at 0x7f93a7197ba8>"
            ]
          },
          "metadata": {
            "tags": []
          },
          "execution_count": 94
        },
        {
          "output_type": "display_data",
          "data": {
            "image/png": "[encoded data removed]",
            "text/plain": [
              "<Figure size 1080x720 with 1 Axes>"
            ]
          },
          "metadata": {
            "tags": []
          }
        }
      ]
    },
    {
      "cell_type": "markdown",
      "metadata": {
        "id": "zXvk1WfhBySA",
        "colab_type": "text"
      },
      "source": [
        "Based on the barchart we can see that United airline is the most topic that have a higher value of tweets."
      ]
    },
    {
      "cell_type": "code",
      "metadata": {
        "id": "4Dxy0R4oB51I",
        "colab_type": "code",
        "colab": {}
      },
      "source": [
        ""
      ],
      "execution_count": 0,
      "outputs": []
    }
  ]
}